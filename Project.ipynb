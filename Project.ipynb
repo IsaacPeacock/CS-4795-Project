{
 "cells": [
  {
   "cell_type": "markdown",
   "metadata": {},
   "source": [
    "# Importing Dataset From A* Search Idea (Scraped)"
   ]
  },
  {
   "cell_type": "code",
   "execution_count": 1,
   "metadata": {},
   "outputs": [],
   "source": [
    "import math\n",
    "import numpy as np\n",
    "import pandas as pd\n",
    "import matplotlib.pyplot as plt\n",
    "import time\n",
    "import random\n",
    "\n",
    "df = pd.read_csv('world_country_and_usa_states_latitude_and_longitude_values.csv')\n",
    "x = df['longitude']\n",
    "y = df['latitude']\n",
    "country = df['country']\n",
    "countries = []\n",
    "for i in range(len(x)):\n",
    "    countries.append({'country': country[i], 'x': x[i], 'y': y[i]})\n",
    "countries\n",
    "\n",
    "df_states = df[['usa_state','usa_state_latitude','usa_state_longitude']]\n",
    "df_states = df_states.dropna()\n",
    "x = df_states['usa_state_longitude']\n",
    "y = df_states['usa_state_latitude']\n",
    "state = df_states['usa_state']\n",
    "states = []\n",
    "for i in range(len(x)):\n",
    "    states.append({'state': state[i], 'x': x[i], 'y': y[i]})\n",
    "\n",
    "path = []\n",
    "\n",
    "for i in range(16):\n",
    "    path.append(states[random.randint(0, len(states))])"
   ]
  },
  {
   "cell_type": "markdown",
   "metadata": {},
   "source": [
    "# CNN for MNIST Fashion"
   ]
  },
  {
   "cell_type": "code",
   "execution_count": 2,
   "metadata": {},
   "outputs": [
    {
     "name": "stdout",
     "output_type": "stream",
     "text": [
      "Epoch 1/10\n",
      "1875/1875 [==============================] - 66s 34ms/step - loss: 0.4477 - accuracy: 0.8375 - val_loss: 0.3398 - val_accuracy: 0.8768\n",
      "Epoch 2/10\n",
      "1875/1875 [==============================] - 46s 24ms/step - loss: 0.2989 - accuracy: 0.8913 - val_loss: 0.3034 - val_accuracy: 0.8873\n",
      "Epoch 3/10\n",
      "1875/1875 [==============================] - 53s 28ms/step - loss: 0.2531 - accuracy: 0.9069 - val_loss: 0.2805 - val_accuracy: 0.8961\n",
      "Epoch 4/10\n",
      "1875/1875 [==============================] - 42s 23ms/step - loss: 0.2206 - accuracy: 0.9184 - val_loss: 0.2834 - val_accuracy: 0.8967\n",
      "Epoch 5/10\n",
      "1875/1875 [==============================] - 47s 25ms/step - loss: 0.1971 - accuracy: 0.9255 - val_loss: 0.2743 - val_accuracy: 0.9026\n",
      "Epoch 6/10\n",
      "1875/1875 [==============================] - 47s 25ms/step - loss: 0.1708 - accuracy: 0.9370 - val_loss: 0.2633 - val_accuracy: 0.9053\n",
      "Epoch 7/10\n",
      "1875/1875 [==============================] - 39s 21ms/step - loss: 0.1533 - accuracy: 0.9426 - val_loss: 0.2599 - val_accuracy: 0.9098\n",
      "Epoch 8/10\n",
      "1875/1875 [==============================] - 43s 23ms/step - loss: 0.1341 - accuracy: 0.9491 - val_loss: 0.2779 - val_accuracy: 0.9104\n",
      "Epoch 9/10\n",
      "1875/1875 [==============================] - 44s 23ms/step - loss: 0.1198 - accuracy: 0.9551 - val_loss: 0.2895 - val_accuracy: 0.9081\n",
      "Epoch 10/10\n",
      "1875/1875 [==============================] - 40s 21ms/step - loss: 0.1051 - accuracy: 0.9601 - val_loss: 0.2974 - val_accuracy: 0.9110\n"
     ]
    },
    {
     "data": {
      "text/plain": [
       "<keras.callbacks.History at 0x24400181cd0>"
      ]
     },
     "execution_count": 2,
     "metadata": {},
     "output_type": "execute_result"
    }
   ],
   "source": [
    "import tensorflow as tf\n",
    "\n",
    "# load mnist fashion dataset\n",
    "mnist = tf.keras.datasets.fashion_mnist\n",
    "(X_train, y_train), (X_test, y_test) = mnist.load_data()\n",
    "\n",
    "# normalize data\n",
    "X_train = X_train.astype(\"float32\") / 255.0\n",
    "X_test = X_test.astype(\"float32\") / 255.0\n",
    "X_train = np.expand_dims(X_train, -1)\n",
    "X_test = np.expand_dims(X_test, -1)\n",
    "\n",
    "model = tf.keras.models.Sequential([\n",
    "    tf.keras.layers.Conv2D(32, (3,3), activation=\"relu\", input_shape=(28,28,1)),\n",
    "    tf.keras.layers.MaxPooling2D((2,2)),\n",
    "    tf.keras.layers.Conv2D(64, (3,3), activation=\"relu\"),\n",
    "    tf.keras.layers.MaxPooling2D((2,2)),\n",
    "    tf.keras.layers.Flatten(),\n",
    "    tf.keras.layers.Dense(128, activation=\"relu\"),\n",
    "    tf.keras.layers.Dense(10, activation=\"softmax\")\n",
    "])\n",
    "\n",
    "model.compile(optimizer=\"adam\", loss=\"sparse_categorical_crossentropy\", metrics=[\"accuracy\"])\n",
    "\n",
    "model.fit(X_train, y_train, epochs=10, validation_data=(X_test, y_test))"
   ]
  },
  {
   "cell_type": "markdown",
   "metadata": {},
   "source": [
    "# Looking at Test Accuracy and What Model got Wrong"
   ]
  },
  {
   "cell_type": "code",
   "execution_count": 15,
   "metadata": {},
   "outputs": [
    {
     "name": "stdout",
     "output_type": "stream",
     "text": [
      "313/313 [==============================] - 2s 7ms/step\n",
      "10000\n",
      "890\n",
      "Accuracy:  0.911\n",
      "Predicted:  Ankle boot\n"
     ]
    },
    {
     "data": {
      "image/png": "[encoded data removed]",
      "text/plain": [
       "<Figure size 432x288 with 1 Axes>"
      ]
     },
     "metadata": {
      "needs_background": "light"
     },
     "output_type": "display_data"
    }
   ],
   "source": [
    "classes = [\"T-shirt/top\", \"Trouser\", \"Pullover\", \"Dress\", \"Coat\", \"Sandal\", \"Shirt\", \"Sneaker\", \"Bag\", \"Ankle boot\"]\n",
    "\n",
    "y_pred = model.predict(X_test)\n",
    "\n",
    "def gen_false_predictions(y_pred, y_test):\n",
    "    false_preds = []\n",
    "    for i in range(len(y_pred)):\n",
    "        if np.argmax(y_pred[i]) != y_test[i]:\n",
    "            false_preds.append((i, np.argmax(y_pred[i]), y_test[i]))\n",
    "    return false_preds\n",
    "\n",
    "print(len(y_pred))\n",
    "print(len(gen_false_predictions(y_pred, y_test)))\n",
    "\n",
    "wrong = len(gen_false_predictions(y_pred, y_test))\n",
    "print(\"Accuracy: \", ((10000 - wrong) / len(y_pred)))\n",
    "\n",
    "plt.imshow(X_test[0].reshape(28,28), cmap=\"gray\")\n",
    "plt.title(classes[y_test[0]])\n",
    "print(\"Predicted: \", classes[np.argmax(y_pred[0])])"
   ]
  },
  {
   "cell_type": "code",
   "execution_count": 17,
   "metadata": {},
   "outputs": [
    {
     "name": "stdout",
     "output_type": "stream",
     "text": [
      "Predicted:  Shirt\n"
     ]
    },
    {
     "data": {
      "image/png": "[encoded data removed]",
      "text/plain": [
       "<Figure size 432x288 with 1 Axes>"
      ]
     },
     "metadata": {
      "needs_background": "light"
     },
     "output_type": "display_data"
    },
    {
     "name": "stdout",
     "output_type": "stream",
     "text": [
      "Predicted:  Sneaker\n"
     ]
    },
    {
     "data": {
      "image/png": "[encoded data removed]",
      "text/plain": [
       "<Figure size 432x288 with 1 Axes>"
      ]
     },
     "metadata": {
      "needs_background": "light"
     },
     "output_type": "display_data"
    },
    {
     "name": "stdout",
     "output_type": "stream",
     "text": [
      "Predicted:  Sandal\n"
     ]
    },
    {
     "data": {
      "image/png": "[encoded data removed]",
      "text/plain": [
       "<Figure size 432x288 with 1 Axes>"
      ]
     },
     "metadata": {
      "needs_background": "light"
     },
     "output_type": "display_data"
    },
    {
     "name": "stdout",
     "output_type": "stream",
     "text": [
      "Predicted:  Shirt\n"
     ]
    },
    {
     "data": {
      "image/png": "[encoded data removed]",
      "text/plain": [
       "<Figure size 432x288 with 1 Axes>"
      ]
     },
     "metadata": {
      "needs_background": "light"
     },
     "output_type": "display_data"
    },
    {
     "name": "stdout",
     "output_type": "stream",
     "text": [
      "Predicted:  Shirt\n"
     ]
    },
    {
     "data": {
      "image/png": "[encoded data removed]",
      "text/plain": [
       "<Figure size 432x288 with 1 Axes>"
      ]
     },
     "metadata": {
      "needs_background": "light"
     },
     "output_type": "display_data"
    },
    {
     "name": "stdout",
     "output_type": "stream",
     "text": [
      "Predicted:  Shirt\n"
     ]
    },
    {
     "data": {
      "image/png": "[encoded data removed]",
      "text/plain": [
       "<Figure size 432x288 with 1 Axes>"
      ]
     },
     "metadata": {
      "needs_background": "light"
     },
     "output_type": "display_data"
    },
    {
     "name": "stdout",
     "output_type": "stream",
     "text": [
      "Predicted:  Shirt\n"
     ]
    },
    {
     "data": {
      "image/png": "[encoded data removed]",
      "text/plain": [
       "<Figure size 432x288 with 1 Axes>"
      ]
     },
     "metadata": {
      "needs_background": "light"
     },
     "output_type": "display_data"
    },
    {
     "name": "stdout",
     "output_type": "stream",
     "text": [
      "Predicted:  Shirt\n"
     ]
    },
    {
     "data": {
      "image/png": "[encoded data removed]",
      "text/plain": [
       "<Figure size 432x288 with 1 Axes>"
      ]
     },
     "metadata": {
      "needs_background": "light"
     },
     "output_type": "display_data"
    },
    {
     "name": "stdout",
     "output_type": "stream",
     "text": [
      "Predicted:  Coat\n"
     ]
    },
    {
     "data": {
      "image/png": "[encoded data removed]",
      "text/plain": [
       "<Figure size 432x288 with 1 Axes>"
      ]
     },
     "metadata": {
      "needs_background": "light"
     },
     "output_type": "display_data"
    },
    {
     "name": "stdout",
     "output_type": "stream",
     "text": [
      "Predicted:  Sneaker\n"
     ]
    },
    {
     "data": {
      "image/png": "[encoded data removed]",
      "text/plain": [
       "<Figure size 432x288 with 1 Axes>"
      ]
     },
     "metadata": {
      "needs_background": "light"
     },
     "output_type": "display_data"
    },
    {
     "data": {
      "text/plain": [
       "Counter({'Coat': 187,\n",
       "         'Sandal': 17,\n",
       "         'Ankle boot': 46,\n",
       "         'T-shirt/top': 112,\n",
       "         'Dress': 70,\n",
       "         'Pullover': 130,\n",
       "         'Shirt': 253,\n",
       "         'Bag': 26,\n",
       "         'Trouser': 20,\n",
       "         'Sneaker': 29})"
      ]
     },
     "execution_count": 17,
     "metadata": {},
     "output_type": "execute_result"
    }
   ],
   "source": [
    "from collections import Counter\n",
    "false_preds = gen_false_predictions(y_pred, y_test)\n",
    "for i in range(10):\n",
    "    plt.imshow(X_test[false_preds[i][0]].reshape(28,28), cmap=\"gray\")\n",
    "    plt.title(classes[false_preds[i][2]])\n",
    "    print(\"Predicted: \", classes[false_preds[i][1]])\n",
    "    plt.show()\n",
    "\n",
    "wrong_class = []\n",
    "for i in range(len(false_preds)):\n",
    "    wrong_class.append(classes[false_preds[i][2]])\n",
    "\n",
    "Counter(wrong_class)\n"
   ]
  },
  {
   "cell_type": "markdown",
   "metadata": {},
   "source": [
    "# Trying SVM"
   ]
  },
  {
   "cell_type": "code",
   "execution_count": 4,
   "metadata": {},
   "outputs": [
    {
     "data": {
      "text/plain": [
       "Pipeline(steps=[('standardscaler', StandardScaler()), ('svc', SVC())])"
      ]
     },
     "execution_count": 4,
     "metadata": {},
     "output_type": "execute_result"
    }
   ],
   "source": [
    "from sklearn.pipeline import make_pipeline\n",
    "from sklearn.preprocessing import StandardScaler\n",
    "from sklearn.svm import SVC\n",
    "\n",
    "svm = make_pipeline(StandardScaler(), SVC(kernel='rbf'))\n",
    "svm.fit(X_train.reshape(60000, 784), y_train)"
   ]
  },
  {
   "cell_type": "code",
   "execution_count": 5,
   "metadata": {},
   "outputs": [],
   "source": [
    "svc_pred = svm.predict(X_test.reshape(10000, 784))"
   ]
  },
  {
   "cell_type": "code",
   "execution_count": 6,
   "metadata": {},
   "outputs": [
    {
     "name": "stdout",
     "output_type": "stream",
     "text": [
      "9\n",
      "9\n",
      "Accuracy:  0.8836\n"
     ]
    }
   ],
   "source": [
    "print(svc_pred[0])\n",
    "print(y_test[0])\n",
    "print(\"Accuracy: \", np.sum(svc_pred == y_test) / len(y_test))"
   ]
  }
 ],
 "metadata": {
  "kernelspec": {
   "display_name": "base",
   "language": "python",
   "name": "python3"
  },
  "language_info": {
   "codemirror_mode": {
    "name": "ipython",
    "version": 3
   },
   "file_extension": ".py",
   "mimetype": "text/x-python",
   "name": "python",
   "nbconvert_exporter": "python",
   "pygments_lexer": "ipython3",
   "version": "3.9.7"
  }
 },
 "nbformat": 4,
 "nbformat_minor": 2
}
